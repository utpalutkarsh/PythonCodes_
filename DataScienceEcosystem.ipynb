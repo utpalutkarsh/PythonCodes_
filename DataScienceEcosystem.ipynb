{
 "cells": [
  {
   "cell_type": "markdown",
   "id": "beb44798-57b5-4d7f-b319-38e05aabd12f",
   "metadata": {},
   "source": [
    "# Data Science Tools and Ecosystem"
   ]
  },
  {
   "cell_type": "markdown",
   "id": "c47957ca-a22e-4acd-a8cf-dcf19fd4b724",
   "metadata": {},
   "source": [
    "In this notebook, Data Science Tools and Ecosystem are summarized."
   ]
  },
  {
   "cell_type": "markdown",
   "id": "384fe263-6ec5-4ce5-9110-ece43b60ec62",
   "metadata": {},
   "source": [
    "**Objective**\n",
    "* Introduction to Data Science Tools\n",
    "* Introduction to Packages and APIs\n",
    "* How to Use Jupyter Notebook\n",
    "* How to use GitHub \n",
    "* Introduction to RStudio\n"
   ]
  },
  {
   "cell_type": "markdown",
   "id": "72d71b65-f1f3-459d-b2a4-7cf9d9f11719",
   "metadata": {},
   "source": [
    "Some of the popular languages that Data Scientists use are:\n",
    "1. Python\n",
    "2. R\n",
    "3. Scala\n",
    "4. Java\n",
    "5. Julia\n",
    "   "
   ]
  },
  {
   "cell_type": "code",
   "execution_count": 7,
   "id": "6e33a177-c7e0-426d-afd2-35ade8866385",
   "metadata": {},
   "outputs": [
    {
     "ename": "SyntaxError",
     "evalue": "invalid syntax (2376851471.py, line 2)",
     "output_type": "error",
     "traceback": [
      "\u001b[1;36m  Cell \u001b[1;32mIn[7], line 2\u001b[1;36m\u001b[0m\n\u001b[1;33m    Utpal Utkarsh\u001b[0m\n\u001b[1;37m          ^\u001b[0m\n\u001b[1;31mSyntaxError\u001b[0m\u001b[1;31m:\u001b[0m invalid syntax\n"
     ]
    }
   ],
   "source": [
    "## Author\n",
    " Utpal Utkarsh"
   ]
  },
  {
   "cell_type": "markdown",
   "id": "2cdf5514-e14e-4836-9f91-0b6630cc3278",
   "metadata": {},
   "source": [
    "Some of the commonly used libraries used by Data Scientists include:\n",
    "1. Pandas\n",
    "2. Numpy\n",
    "3. matplotlib\n",
    "4. scikit-learn\n",
    "5. Seaborn\n",
    "6. TenserFlow"
   ]
  },
  {
   "cell_type": "markdown",
   "id": "f04c6795-e3b3-4ba5-bf35-deaf7efdd83f",
   "metadata": {},
   "source": [
    "| Data Science Tools |\n",
    "|--------------------|\n",
    "| Jupyter Notebook   | \n",
    "| Tableau            | \n",
    "| RStudio            |"
   ]
  },
  {
   "cell_type": "markdown",
   "id": "e1c76adb-dd74-4a17-bdda-34cbee1ae685",
   "metadata": {},
   "source": [
    "### Below are a few examples of evaluating arithmetic expressions in Python\n"
   ]
  },
  {
   "cell_type": "code",
   "execution_count": 1,
   "id": "9ee3294d-34d7-4825-8039-3243eb9ea70d",
   "metadata": {},
   "outputs": [
    {
     "name": "stdout",
     "output_type": "stream",
     "text": [
      "17\n"
     ]
    }
   ],
   "source": [
    " # This a simple arithmetic expression to mutiply then add integers\n",
    "test = (3*4)+5\n",
    "print(test)\n"
   ]
  },
  {
   "cell_type": "code",
   "execution_count": 4,
   "id": "ede7c7d4-6ea5-43e3-ab49-17e1e1a62964",
   "metadata": {},
   "outputs": [
    {
     "name": "stdout",
     "output_type": "stream",
     "text": [
      "3.3333333333333335\n"
     ]
    }
   ],
   "source": [
    "# This will convert 200 minutes to hours by diving by 60\n",
    "minutes = 200\n",
    "hours = minutes/60\n",
    "print(hours)"
   ]
  },
  {
   "cell_type": "code",
   "execution_count": null,
   "id": "61ad6e40-8da7-4bb8-91c4-b13b2f5cb1b8",
   "metadata": {},
   "outputs": [],
   "source": []
  }
 ],
 "metadata": {
  "kernelspec": {
   "display_name": "Python 3 (ipykernel)",
   "language": "python",
   "name": "python3"
  },
  "language_info": {
   "codemirror_mode": {
    "name": "ipython",
    "version": 3
   },
   "file_extension": ".py",
   "mimetype": "text/x-python",
   "name": "python",
   "nbconvert_exporter": "python",
   "pygments_lexer": "ipython3",
   "version": "3.13.0"
  }
 },
 "nbformat": 4,
 "nbformat_minor": 5
}
