{
 "cells": [
  {
   "cell_type": "code",
   "execution_count": 8,
   "id": "5cda529b-9188-40ef-bc1f-61021cbff77d",
   "metadata": {},
   "outputs": [
    {
     "name": "stdout",
     "output_type": "stream",
     "text": [
      "1\n",
      "2\n",
      "3\n",
      "4\n",
      "5\n",
      "6\n",
      "7\n",
      "8\n"
     ]
    },
    {
     "data": {
      "text/plain": [
       "'\\n    EXPECTED OUTPUT:\\n    ----------------\\n    1 \\n    2 \\n    3 \\n    4 \\n    5 \\n    6 \\n    7\\n    8\\n\\n'"
      ]
     },
     "execution_count": 8,
     "metadata": {},
     "output_type": "execute_result"
    }
   ],
   "source": [
    "# %load test45.py\n",
    "class Node:\n",
    "    def __init__(self, value):\n",
    "        self.value = value\n",
    "        self.next = None\n",
    "\n",
    "\n",
    "class LinkedList:\n",
    "    def __init__(self, value):\n",
    "        new_node = Node(value)\n",
    "        self.head = new_node\n",
    "        self.tail = new_node\n",
    "        self.length = 1\n",
    "\n",
    "    def print_list(self):\n",
    "        temp = self.head\n",
    "        while temp is not None:\n",
    "            print(temp.value)\n",
    "            temp = temp.next\n",
    "\n",
    "    def append(self, value):\n",
    "        new_node = Node(value)\n",
    "        if self.head is None:\n",
    "            self.head = new_node\n",
    "            self.tail = new_node\n",
    "        else:\n",
    "            self.tail.next = new_node\n",
    "            self.tail = new_node\n",
    "        self.length += 1\n",
    "\n",
    "    def merge(self,L2):\n",
    "        dummy = Node(0)\n",
    "        current = dummy\n",
    "        temp1 = self.head\n",
    "        temp2 = L2.head\n",
    "        while temp1 is not None and temp2 is not None:\n",
    "            if temp1.value < temp2.value :\n",
    "                current.next = temp1\n",
    "                temp1 = temp1.next\n",
    "            else:\n",
    "                current.next = temp2\n",
    "                temp2 = temp2.next\n",
    "            current = current.next\n",
    "\n",
    "        while temp1 is not None:\n",
    "            current.next = temp1\n",
    "            temp1 = temp1.next\n",
    "        while temp2 is not None:\n",
    "            current.next = temp2\n",
    "            temp2 = temp2.next\n",
    "\n",
    "        return dummy\n",
    "\n",
    "\n",
    "\n",
    "l1 = LinkedList(1)\n",
    "l1.append(3)\n",
    "l1.append(5)\n",
    "l1.append(7)\n",
    "\n",
    "l2 = LinkedList(2)\n",
    "l2.append(4)\n",
    "l2.append(6)\n",
    "l2.append(8)\n",
    "\n",
    "l1.merge(l2)\n",
    "\n",
    "l1.print_list()\n",
    "\n",
    "\"\"\"\n",
    "    EXPECTED OUTPUT:\n",
    "    ----------------\n",
    "    1 \n",
    "    2 \n",
    "    3 \n",
    "    4 \n",
    "    5 \n",
    "    6 \n",
    "    7\n",
    "    8\n",
    "\n",
    "\"\"\""
   ]
  },
  {
   "cell_type": "code",
   "execution_count": 9,
   "id": "6413c516-9fc2-44ee-8789-391084943a8b",
   "metadata": {},
   "outputs": [
    {
     "name": "stdout",
     "output_type": "stream",
     "text": [
      "[1, 4]\n",
      "[1, 3]\n",
      "[0, 3]\n",
      "[0, 4]\n",
      "[]\n",
      "[1, 4]\n",
      "[0, 1]\n",
      "[]\n"
     ]
    },
    {
     "data": {
      "text/plain": [
       "'\\n    EXPECTED OUTPUT:\\n    ----------------\\n    [1, 4]\\n    [1, 3]\\n    [0, 3]\\n    [1, 3]\\n    []\\n    [2, 3]\\n    [0, 1]\\n    []\\n\\n'"
      ]
     },
     "execution_count": 9,
     "metadata": {},
     "output_type": "execute_result"
    }
   ],
   "source": [
    "def two_sum(nums,target):\n",
    "    my_dict = {}\n",
    "    arr = []\n",
    "    for i, j in enumerate(nums):\n",
    "        my_dict[j] = i\n",
    "    for key in my_dict:\n",
    "        x = target - key\n",
    "        if x in my_dict and key!=x:\n",
    "            arr.append(nums.index(key))\n",
    "            arr.append(nums.index(x))\n",
    "            return arr\n",
    "    return arr\n",
    "\n",
    "print(two_sum([5, 1, 7, 2, 9, 3], 10))\n",
    "print(two_sum([4, 2, 11, 7, 6, 3], 9))\n",
    "print(two_sum([10, 15, 5, 2, 8, 1, 7], 12))\n",
    "print(two_sum([1, 3, 5, 7, 9], 10))\n",
    "print(two_sum([1, 2, 3, 4, 5], 10))\n",
    "print(two_sum([1, 2, 3, 4, 5], 7))\n",
    "print(two_sum([1, 2, 3, 4, 5], 3))\n",
    "print(two_sum([], 0))\n",
    "\n",
    "\"\"\"\n",
    "    EXPECTED OUTPUT:\n",
    "    ----------------\n",
    "    [1, 4]\n",
    "    [1, 3]\n",
    "    [0, 3]\n",
    "    [1, 3]\n",
    "    []\n",
    "    [2, 3]\n",
    "    [0, 1]\n",
    "    []\n",
    "\n",
    "\"\"\"\n",
    "\n",
    "\n"
   ]
  },
  {
   "cell_type": "code",
   "execution_count": null,
   "id": "b1903217-c328-4d49-8a02-ecaa8ff9e36f",
   "metadata": {},
   "outputs": [],
   "source": []
  }
 ],
 "metadata": {
  "kernelspec": {
   "display_name": "Python 3 (ipykernel)",
   "language": "python",
   "name": "python3"
  },
  "language_info": {
   "codemirror_mode": {
    "name": "ipython",
    "version": 3
   },
   "file_extension": ".py",
   "mimetype": "text/x-python",
   "name": "python",
   "nbconvert_exporter": "python",
   "pygments_lexer": "ipython3",
   "version": "3.13.0"
  }
 },
 "nbformat": 4,
 "nbformat_minor": 5
}
