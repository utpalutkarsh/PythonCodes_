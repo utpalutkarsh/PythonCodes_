{
 "cells": [
  {
   "cell_type": "code",
   "execution_count": 3,
   "id": "d090be74-3ba4-4568-a26e-c8072065c0a7",
   "metadata": {},
   "outputs": [
    {
     "name": "stdout",
     "output_type": "stream",
     "text": [
      "Hello World\n"
     ]
    }
   ],
   "source": [
    "print(\"Hello World\")\n"
   ]
  },
  {
   "cell_type": "code",
   "execution_count": 6,
   "id": "b7c67a53-3228-4176-bf2d-5a0db96610d0",
   "metadata": {},
   "outputs": [
    {
     "name": "stdin",
     "output_type": "stream",
     "text": [
      "Enter the first Number:  45\n",
      "Enter the second Number:  23\n"
     ]
    },
    {
     "name": "stdout",
     "output_type": "stream",
     "text": [
      "The Sum of the number is  68\n"
     ]
    }
   ],
   "source": [
    "x = int(input(\"Enter the first Number: \"))\n",
    "y = int(input(\"Enter the second Number: \"))\n",
    "sum = x+y\n",
    "print(\"The Sum of the number is \", sum)"
   ]
  },
  {
   "cell_type": "code",
   "execution_count": null,
   "id": "dc10f8f0-2b3f-4a68-9c0f-cb87b90b0b25",
   "metadata": {},
   "outputs": [],
   "source": []
  }
 ],
 "metadata": {
  "kernelspec": {
   "display_name": "Python 3 (ipykernel)",
   "language": "python",
   "name": "python3"
  },
  "language_info": {
   "codemirror_mode": {
    "name": "ipython",
    "version": 3
   },
   "file_extension": ".py",
   "mimetype": "text/x-python",
   "name": "python",
   "nbconvert_exporter": "python",
   "pygments_lexer": "ipython3",
   "version": "3.13.0"
  }
 },
 "nbformat": 4,
 "nbformat_minor": 5
}
